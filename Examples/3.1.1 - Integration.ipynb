{
 "cells": [
  {
   "cell_type": "code",
   "execution_count": 2,
   "metadata": {},
   "outputs": [],
   "source": [
    "import pandas as pd\n",
    "import numpy as np\n",
    "import integration"
   ]
  },
  {
   "cell_type": "markdown",
   "metadata": {},
   "source": [
    "# Вычисление интеграла"
   ]
  },
  {
   "cell_type": "markdown",
   "metadata": {},
   "source": [
    "## Для графика выпуклого вверх"
   ]
  },
  {
   "cell_type": "markdown",
   "metadata": {},
   "source": [
    "Считываем данные из файла \"data_950-1080_all.csv\"."
   ]
  },
  {
   "cell_type": "code",
   "execution_count": 5,
   "metadata": {},
   "outputs": [
    {
     "data": {
      "text/html": [
       "<div>\n",
       "<style scoped>\n",
       "    .dataframe tbody tr th:only-of-type {\n",
       "        vertical-align: middle;\n",
       "    }\n",
       "\n",
       "    .dataframe tbody tr th {\n",
       "        vertical-align: top;\n",
       "    }\n",
       "\n",
       "    .dataframe thead th {\n",
       "        text-align: right;\n",
       "    }\n",
       "</style>\n",
       "<table border=\"1\" class=\"dataframe\">\n",
       "  <thead>\n",
       "    <tr style=\"text-align: right;\">\n",
       "      <th></th>\n",
       "      <th>SiO2</th>\n",
       "      <th>Au/SiO2</th>\n",
       "      <th>Al2O3</th>\n",
       "      <th>Au/Al2O3</th>\n",
       "    </tr>\n",
       "    <tr>\n",
       "      <th>Time</th>\n",
       "      <th></th>\n",
       "      <th></th>\n",
       "      <th></th>\n",
       "      <th></th>\n",
       "    </tr>\n",
       "  </thead>\n",
       "  <tbody>\n",
       "    <tr>\n",
       "      <th>950.0010</th>\n",
       "      <td>21.614993</td>\n",
       "      <td>21.702245</td>\n",
       "      <td>21.523431</td>\n",
       "      <td>21.584952</td>\n",
       "    </tr>\n",
       "    <tr>\n",
       "      <th>950.0107</th>\n",
       "      <td>21.615224</td>\n",
       "      <td>21.702429</td>\n",
       "      <td>21.523471</td>\n",
       "      <td>21.585002</td>\n",
       "    </tr>\n",
       "    <tr>\n",
       "      <th>950.0205</th>\n",
       "      <td>21.615456</td>\n",
       "      <td>21.702612</td>\n",
       "      <td>21.523512</td>\n",
       "      <td>21.585053</td>\n",
       "    </tr>\n",
       "    <tr>\n",
       "      <th>950.0303</th>\n",
       "      <td>21.615689</td>\n",
       "      <td>21.702797</td>\n",
       "      <td>21.523553</td>\n",
       "      <td>21.585103</td>\n",
       "    </tr>\n",
       "    <tr>\n",
       "      <th>950.0400</th>\n",
       "      <td>21.615922</td>\n",
       "      <td>21.702981</td>\n",
       "      <td>21.523594</td>\n",
       "      <td>21.585154</td>\n",
       "    </tr>\n",
       "  </tbody>\n",
       "</table>\n",
       "</div>"
      ],
      "text/plain": [
       "               SiO2    Au/SiO2      Al2O3   Au/Al2O3\n",
       "Time                                                \n",
       "950.0010  21.614993  21.702245  21.523431  21.584952\n",
       "950.0107  21.615224  21.702429  21.523471  21.585002\n",
       "950.0205  21.615456  21.702612  21.523512  21.585053\n",
       "950.0303  21.615689  21.702797  21.523553  21.585103\n",
       "950.0400  21.615922  21.702981  21.523594  21.585154"
      ]
     },
     "execution_count": 5,
     "metadata": {},
     "output_type": "execute_result"
    }
   ],
   "source": [
    "direct = pd.read_csv(\"Data/Data_Intervals/data_950-1080_all.csv\", index_col=0, dtype=np.double)\n",
    "direct.head()"
   ]
  },
  {
   "cell_type": "code",
   "execution_count": 7,
   "metadata": {},
   "outputs": [
    {
     "data": {
      "image/png": "[encoded data removed]",
      "text/plain": [
       "<Figure size 432x288 with 1 Axes>"
      ]
     },
     "metadata": {
      "needs_background": "light"
     },
     "output_type": "display_data"
    }
   ],
   "source": [
    "direct.plot();"
   ]
  },
  {
   "cell_type": "markdown",
   "metadata": {},
   "source": [
    "### $\\int_{t_i}^{t} T(t) dt$"
   ]
  },
  {
   "cell_type": "code",
   "execution_count": 8,
   "metadata": {},
   "outputs": [
    {
     "ename": "error",
     "evalue": "failed in converting 2nd argument `y' of dfitpack.fpcurf0 to C/Fortran array",
     "output_type": "error",
     "traceback": [
      "\u001b[1;31m---------------------------------------------------------------------------\u001b[0m",
      "\u001b[1;31merror\u001b[0m                                     Traceback (most recent call last)",
      "\u001b[1;32m<ipython-input-8-bd69901a7c10>\u001b[0m in \u001b[0;36m<module>\u001b[1;34m\u001b[0m\n\u001b[1;32m----> 1\u001b[1;33m \u001b[0mintegral\u001b[0m \u001b[1;33m=\u001b[0m \u001b[0mintegration\u001b[0m\u001b[1;33m.\u001b[0m\u001b[0mintegrate_function\u001b[0m\u001b[1;33m(\u001b[0m\u001b[0mdirect\u001b[0m\u001b[1;33m)\u001b[0m\u001b[1;33m\u001b[0m\u001b[1;33m\u001b[0m\u001b[0m\n\u001b[0m\u001b[0;32m      2\u001b[0m \u001b[0mintegral\u001b[0m\u001b[1;33m.\u001b[0m\u001b[0mplot\u001b[0m\u001b[1;33m(\u001b[0m\u001b[1;33m)\u001b[0m\u001b[1;33m;\u001b[0m\u001b[1;33m\u001b[0m\u001b[1;33m\u001b[0m\u001b[0m\n",
      "\u001b[1;32mD:\\Projects\\Sorption\\SorptionJupyter\\Programs\\dev (v 0.3)\\integration.py\u001b[0m in \u001b[0;36mintegrate_function\u001b[1;34m(data, extrema)\u001b[0m\n\u001b[0;32m     20\u001b[0m         \u001b[0mreduced\u001b[0m \u001b[1;33m=\u001b[0m \u001b[1;33m-\u001b[0m\u001b[0mdata\u001b[0m \u001b[1;33m+\u001b[0m \u001b[0mdata\u001b[0m\u001b[1;33m.\u001b[0m\u001b[0mmax\u001b[0m\u001b[1;33m(\u001b[0m\u001b[1;33m)\u001b[0m\u001b[1;33m\u001b[0m\u001b[1;33m\u001b[0m\u001b[0m\n\u001b[0;32m     21\u001b[0m \u001b[1;33m\u001b[0m\u001b[0m\n\u001b[1;32m---> 22\u001b[1;33m     \u001b[0minterpf\u001b[0m \u001b[1;33m=\u001b[0m \u001b[0mInterpolatedUnivariateSpline\u001b[0m\u001b[1;33m(\u001b[0m\u001b[0mreduced\u001b[0m\u001b[1;33m.\u001b[0m\u001b[0mindex\u001b[0m\u001b[1;33m,\u001b[0m \u001b[0mreduced\u001b[0m\u001b[1;33m)\u001b[0m\u001b[1;33m\u001b[0m\u001b[1;33m\u001b[0m\u001b[0m\n\u001b[0m\u001b[0;32m     23\u001b[0m \u001b[1;33m\u001b[0m\u001b[0m\n\u001b[0;32m     24\u001b[0m     \u001b[0mintegral\u001b[0m \u001b[1;33m=\u001b[0m \u001b[0mpd\u001b[0m\u001b[1;33m.\u001b[0m\u001b[0mDataFrame\u001b[0m\u001b[1;33m(\u001b[0m\u001b[0mindex\u001b[0m\u001b[1;33m=\u001b[0m\u001b[0mreduced\u001b[0m\u001b[1;33m.\u001b[0m\u001b[0mindex\u001b[0m\u001b[1;33m)\u001b[0m\u001b[1;33m\u001b[0m\u001b[1;33m\u001b[0m\u001b[0m\n",
      "\u001b[1;32mC:\\ProgramData\\Anaconda3\\envs\\sorption\\lib\\site-packages\\scipy\\interpolate\\fitpack2.py\u001b[0m in \u001b[0;36m__init__\u001b[1;34m(self, x, y, w, bbox, k, ext, check_finite)\u001b[0m\n\u001b[0;32m    603\u001b[0m         \u001b[1;31m# _data == x,y,w,xb,xe,k,s,n,t,c,fp,fpint,nrdata,ier\u001b[0m\u001b[1;33m\u001b[0m\u001b[1;33m\u001b[0m\u001b[1;33m\u001b[0m\u001b[0m\n\u001b[0;32m    604\u001b[0m         self._data = dfitpack.fpcurf0(x, y, k, w=w, xb=bbox[0],\n\u001b[1;32m--> 605\u001b[1;33m                                       xe=bbox[1], s=0)\n\u001b[0m\u001b[0;32m    606\u001b[0m         \u001b[0mself\u001b[0m\u001b[1;33m.\u001b[0m\u001b[0m_reset_class\u001b[0m\u001b[1;33m(\u001b[0m\u001b[1;33m)\u001b[0m\u001b[1;33m\u001b[0m\u001b[1;33m\u001b[0m\u001b[0m\n\u001b[0;32m    607\u001b[0m \u001b[1;33m\u001b[0m\u001b[0m\n",
      "\u001b[1;31merror\u001b[0m: failed in converting 2nd argument `y' of dfitpack.fpcurf0 to C/Fortran array"
     ]
    }
   ],
   "source": [
    "integral = integration.integrate_function(direct)\n",
    "integral.plot();"
   ]
  },
  {
   "cell_type": "markdown",
   "metadata": {},
   "source": [
    "### $\\int_{t_i}^{t_f} T(t) dt$"
   ]
  },
  {
   "cell_type": "code",
   "execution_count": 5,
   "metadata": {},
   "outputs": [
    {
     "name": "stderr",
     "output_type": "stream",
     "text": [
      "/home/deverte/miniconda3/lib/python3.7/site-packages/scipy/integrate/quadpack.py:385: IntegrationWarning: The maximum number of subdivisions (50) has been achieved.\n",
      "  If increasing the limit yields no improvement it is advised to analyze \n",
      "  the integrand in order to determine the difficulties.  If the position of a \n",
      "  local difficulty can be determined (singularity, discontinuity) one will \n",
      "  probably gain from splitting up the interval and calling the integrator \n",
      "  on the subranges.  Perhaps a special-purpose integrator should be used.\n",
      "  warnings.warn(msg, IntegrationWarning)\n"
     ]
    },
    {
     "data": {
      "text/plain": [
       "(80.45841721828694, 0.012524062495626948)"
      ]
     },
     "execution_count": 5,
     "metadata": {},
     "output_type": "execute_result"
    }
   ],
   "source": [
    "result = integration.integrate(direct)\n",
    "result"
   ]
  },
  {
   "cell_type": "markdown",
   "metadata": {},
   "source": [
    "В результате мы получили два значения. Первое значение - предполагаемое значение интеграла, второе - верхняя граница ошибки."
   ]
  },
  {
   "cell_type": "markdown",
   "metadata": {},
   "source": [
    "## Для графика выпуклого вниз"
   ]
  },
  {
   "cell_type": "markdown",
   "metadata": {},
   "source": [
    "Считываем данные из файла \"data_100:600_SiO2.csv\"."
   ]
  },
  {
   "cell_type": "code",
   "execution_count": 6,
   "metadata": {},
   "outputs": [
    {
     "data": {
      "text/html": [
       "<div>\n",
       "<style scoped>\n",
       "    .dataframe tbody tr th:only-of-type {\n",
       "        vertical-align: middle;\n",
       "    }\n",
       "\n",
       "    .dataframe tbody tr th {\n",
       "        vertical-align: top;\n",
       "    }\n",
       "\n",
       "    .dataframe thead th {\n",
       "        text-align: right;\n",
       "    }\n",
       "</style>\n",
       "<table border=\"1\" class=\"dataframe\">\n",
       "  <thead>\n",
       "    <tr style=\"text-align: right;\">\n",
       "      <th></th>\n",
       "      <th>1</th>\n",
       "    </tr>\n",
       "    <tr>\n",
       "      <th>0</th>\n",
       "      <th></th>\n",
       "    </tr>\n",
       "  </thead>\n",
       "  <tbody>\n",
       "    <tr>\n",
       "      <th>100.0027</th>\n",
       "      <td>21.719327</td>\n",
       "    </tr>\n",
       "    <tr>\n",
       "      <th>100.0124</th>\n",
       "      <td>21.718582</td>\n",
       "    </tr>\n",
       "    <tr>\n",
       "      <th>100.0222</th>\n",
       "      <td>21.717837</td>\n",
       "    </tr>\n",
       "    <tr>\n",
       "      <th>100.0319</th>\n",
       "      <td>21.717090</td>\n",
       "    </tr>\n",
       "    <tr>\n",
       "      <th>100.0416</th>\n",
       "      <td>21.716342</td>\n",
       "    </tr>\n",
       "  </tbody>\n",
       "</table>\n",
       "</div>"
      ],
      "text/plain": [
       "                  1\n",
       "0                  \n",
       "100.0027  21.719327\n",
       "100.0124  21.718582\n",
       "100.0222  21.717837\n",
       "100.0319  21.717090\n",
       "100.0416  21.716342"
      ]
     },
     "execution_count": 6,
     "metadata": {},
     "output_type": "execute_result"
    }
   ],
   "source": [
    "reverse = pd.read_csv(\"Data/Data_Intervals/data_100-600_SiO2.csv\", index_col=0, dtype=np.double, header=None)\n",
    "reverse.head()"
   ]
  },
  {
   "cell_type": "code",
   "execution_count": 7,
   "metadata": {},
   "outputs": [
    {
     "data": {
      "text/plain": [
       "<matplotlib.axes._subplots.AxesSubplot at 0x7f88053d9ba8>"
      ]
     },
     "execution_count": 7,
     "metadata": {},
     "output_type": "execute_result"
    },
    {
     "data": {
      "image/png": "[encoded data removed]",
      "text/plain": [
       "<Figure size 432x288 with 1 Axes>"
      ]
     },
     "metadata": {
      "needs_background": "light"
     },
     "output_type": "display_data"
    }
   ],
   "source": [
    "reverse.plot()"
   ]
  },
  {
   "cell_type": "markdown",
   "metadata": {},
   "source": [
    "### $\\int_{t_i}^{t} T(t) dt$"
   ]
  },
  {
   "cell_type": "code",
   "execution_count": 8,
   "metadata": {},
   "outputs": [
    {
     "data": {
      "image/png": "[encoded data removed]",
      "text/plain": [
       "<Figure size 432x288 with 1 Axes>"
      ]
     },
     "metadata": {
      "needs_background": "light"
     },
     "output_type": "display_data"
    }
   ],
   "source": [
    "integral = integration.integrate_function(reverse, extrema=\"min\")\n",
    "integral.plot();"
   ]
  },
  {
   "cell_type": "markdown",
   "metadata": {},
   "source": [
    "### $\\int_{t_i}^{t_f} T(t) dt$"
   ]
  },
  {
   "cell_type": "code",
   "execution_count": 10,
   "metadata": {},
   "outputs": [
    {
     "data": {
      "text/plain": [
       "(281.86109663917057, 0.009696125962567349)"
      ]
     },
     "execution_count": 10,
     "metadata": {},
     "output_type": "execute_result"
    }
   ],
   "source": [
    "result = integration.integrate(reverse, extrema=\"min\")\n",
    "result"
   ]
  },
  {
   "cell_type": "code",
   "execution_count": null,
   "metadata": {},
   "outputs": [],
   "source": []
  }
 ],
 "metadata": {
  "kernelspec": {
   "display_name": "Python 3",
   "language": "python",
   "name": "python3"
  },
  "language_info": {
   "codemirror_mode": {
    "name": "ipython",
    "version": 3
   },
   "file_extension": ".py",
   "mimetype": "text/x-python",
   "name": "python",
   "nbconvert_exporter": "python",
   "pygments_lexer": "ipython3",
   "version": "3.7.1"
  }
 },
 "nbformat": 4,
 "nbformat_minor": 2
}
