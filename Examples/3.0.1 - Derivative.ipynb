{
 "cells": [
  {
   "cell_type": "code",
   "execution_count": 1,
   "metadata": {},
   "outputs": [],
   "source": [
    "import pandas as pd\n",
    "import numpy as np\n",
    "import derivative"
   ]
  },
  {
   "cell_type": "markdown",
   "metadata": {},
   "source": [
    "# Взятие производных"
   ]
  },
  {
   "cell_type": "markdown",
   "metadata": {},
   "source": [
    "## Получение данных"
   ]
  },
  {
   "cell_type": "code",
   "execution_count": 2,
   "metadata": {},
   "outputs": [],
   "source": [
    "fileIn = \"Data/e_1_SiO2_Al2O3.dat\" # Входной файл\n",
    "fileOut = \"Data/d_1_SiO2_Al2O3.dat\" # Выходной файл"
   ]
  },
  {
   "cell_type": "markdown",
   "metadata": {},
   "source": [
    "Считываем данные из файла fileIn."
   ]
  },
  {
   "cell_type": "code",
   "execution_count": 3,
   "metadata": {},
   "outputs": [
    {
     "data": {
      "text/html": [
       "<div>\n",
       "<style scoped>\n",
       "    .dataframe tbody tr th:only-of-type {\n",
       "        vertical-align: middle;\n",
       "    }\n",
       "\n",
       "    .dataframe tbody tr th {\n",
       "        vertical-align: top;\n",
       "    }\n",
       "\n",
       "    .dataframe thead th {\n",
       "        text-align: right;\n",
       "    }\n",
       "</style>\n",
       "<table border=\"1\" class=\"dataframe\">\n",
       "  <thead>\n",
       "    <tr style=\"text-align: right;\">\n",
       "      <th></th>\n",
       "      <th>SiO2</th>\n",
       "      <th>Au/SiO2</th>\n",
       "      <th>Al2O3</th>\n",
       "      <th>Au/Al2O3</th>\n",
       "    </tr>\n",
       "    <tr>\n",
       "      <th>Time</th>\n",
       "      <th></th>\n",
       "      <th></th>\n",
       "      <th></th>\n",
       "      <th></th>\n",
       "    </tr>\n",
       "  </thead>\n",
       "  <tbody>\n",
       "    <tr>\n",
       "      <th>0.000000</th>\n",
       "      <td>21.959439</td>\n",
       "      <td>21.983065</td>\n",
       "      <td>21.715460</td>\n",
       "      <td>21.769638</td>\n",
       "    </tr>\n",
       "    <tr>\n",
       "      <th>0.009744</th>\n",
       "      <td>21.959228</td>\n",
       "      <td>21.982868</td>\n",
       "      <td>21.715580</td>\n",
       "      <td>21.769718</td>\n",
       "    </tr>\n",
       "    <tr>\n",
       "      <th>0.019488</th>\n",
       "      <td>21.959018</td>\n",
       "      <td>21.982671</td>\n",
       "      <td>21.715700</td>\n",
       "      <td>21.769797</td>\n",
       "    </tr>\n",
       "    <tr>\n",
       "      <th>0.029232</th>\n",
       "      <td>21.958808</td>\n",
       "      <td>21.982474</td>\n",
       "      <td>21.715820</td>\n",
       "      <td>21.769876</td>\n",
       "    </tr>\n",
       "    <tr>\n",
       "      <th>0.038976</th>\n",
       "      <td>21.958598</td>\n",
       "      <td>21.982277</td>\n",
       "      <td>21.715939</td>\n",
       "      <td>21.769956</td>\n",
       "    </tr>\n",
       "  </tbody>\n",
       "</table>\n",
       "</div>"
      ],
      "text/plain": [
       "               SiO2    Au/SiO2      Al2O3   Au/Al2O3\n",
       "Time                                                \n",
       "0.000000  21.959439  21.983065  21.715460  21.769638\n",
       "0.009744  21.959228  21.982868  21.715580  21.769718\n",
       "0.019488  21.959018  21.982671  21.715700  21.769797\n",
       "0.029232  21.958808  21.982474  21.715820  21.769876\n",
       "0.038976  21.958598  21.982277  21.715939  21.769956"
      ]
     },
     "execution_count": 3,
     "metadata": {},
     "output_type": "execute_result"
    }
   ],
   "source": [
    "data = pd.read_csv(fileIn, index_col=0, dtype=np.double)\n",
    "data.head()"
   ]
  },
  {
   "cell_type": "code",
   "execution_count": 4,
   "metadata": {},
   "outputs": [],
   "source": [
    "data.plot();"
   ]
  },
  {
   "cell_type": "markdown",
   "metadata": {},
   "source": [
    "## Вычисление производной"
   ]
  },
  {
   "cell_type": "code",
   "execution_count": 5,
   "metadata": {},
   "outputs": [
    {
     "data": {
      "image/png": "[encoded data removed]",
      "text/plain": [
       "<Figure size 432x288 with 1 Axes>"
      ]
     },
     "metadata": {
      "needs_background": "light"
     },
     "output_type": "display_data"
    }
   ],
   "source": [
    "derivatives = derivative.derivative(data)\n",
    "derivatives.plot();"
   ]
  },
  {
   "cell_type": "markdown",
   "metadata": {},
   "source": [
    "## Экспорт данных"
   ]
  },
  {
   "cell_type": "markdown",
   "metadata": {},
   "source": [
    "Экспортируем призводные от данных в файл fileOut."
   ]
  },
  {
   "cell_type": "code",
   "execution_count": 6,
   "metadata": {},
   "outputs": [],
   "source": [
    "derivatives.to_csv(fileOut)"
   ]
  },
  {
   "cell_type": "code",
   "execution_count": null,
   "metadata": {},
   "outputs": [],
   "source": []
  }
 ],
 "metadata": {
  "kernelspec": {
   "display_name": "Python 3",
   "language": "python",
   "name": "python3"
  },
  "language_info": {
   "codemirror_mode": {
    "name": "ipython",
    "version": 3
   },
   "file_extension": ".py",
   "mimetype": "text/x-python",
   "name": "python",
   "nbconvert_exporter": "python",
   "pygments_lexer": "ipython3",
   "version": "3.7.1"
  }
 },
 "nbformat": 4,
 "nbformat_minor": 2
}
