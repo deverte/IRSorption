{
 "cells": [
  {
   "cell_type": "code",
   "execution_count": 1,
   "metadata": {},
   "outputs": [],
   "source": [
    "import pandas as pd\n",
    "import numpy as np\n",
    "import equalization"
   ]
  },
  {
   "cell_type": "markdown",
   "metadata": {},
   "source": [
    "# Выравнивание температуры"
   ]
  },
  {
   "cell_type": "markdown",
   "metadata": {},
   "source": [
    "## Получение данных"
   ]
  },
  {
   "cell_type": "code",
   "execution_count": 2,
   "metadata": {},
   "outputs": [],
   "source": [
    "fileIn = \"Data/s_1_SiO2_Al2O3.dat\" # Входной файл\n",
    "fileOut = \"Data/e_1_SiO2_Al2O3.dat\" # Выходной файл"
   ]
  },
  {
   "cell_type": "markdown",
   "metadata": {},
   "source": [
    "Считываем данные из файла fileIn."
   ]
  },
  {
   "cell_type": "code",
   "execution_count": 3,
   "metadata": {},
   "outputs": [
    {
     "data": {
      "text/html": [
       "<div>\n",
       "<style scoped>\n",
       "    .dataframe tbody tr th:only-of-type {\n",
       "        vertical-align: middle;\n",
       "    }\n",
       "\n",
       "    .dataframe tbody tr th {\n",
       "        vertical-align: top;\n",
       "    }\n",
       "\n",
       "    .dataframe thead th {\n",
       "        text-align: right;\n",
       "    }\n",
       "</style>\n",
       "<table border=\"1\" class=\"dataframe\">\n",
       "  <thead>\n",
       "    <tr style=\"text-align: right;\">\n",
       "      <th></th>\n",
       "      <th>SiO2</th>\n",
       "      <th>Au/SiO2</th>\n",
       "      <th>Al2O3</th>\n",
       "      <th>Au/Al2O3</th>\n",
       "    </tr>\n",
       "    <tr>\n",
       "      <th>Time</th>\n",
       "      <th></th>\n",
       "      <th></th>\n",
       "      <th></th>\n",
       "      <th></th>\n",
       "    </tr>\n",
       "  </thead>\n",
       "  <tbody>\n",
       "    <tr>\n",
       "      <th>0.000000</th>\n",
       "      <td>21.980776</td>\n",
       "      <td>21.995436</td>\n",
       "      <td>21.793693</td>\n",
       "      <td>21.840987</td>\n",
       "    </tr>\n",
       "    <tr>\n",
       "      <th>0.009744</th>\n",
       "      <td>21.980565</td>\n",
       "      <td>21.995238</td>\n",
       "      <td>21.793814</td>\n",
       "      <td>21.841067</td>\n",
       "    </tr>\n",
       "    <tr>\n",
       "      <th>0.019488</th>\n",
       "      <td>21.980355</td>\n",
       "      <td>21.995041</td>\n",
       "      <td>21.793935</td>\n",
       "      <td>21.841147</td>\n",
       "    </tr>\n",
       "    <tr>\n",
       "      <th>0.029232</th>\n",
       "      <td>21.980144</td>\n",
       "      <td>21.994844</td>\n",
       "      <td>21.794056</td>\n",
       "      <td>21.841228</td>\n",
       "    </tr>\n",
       "    <tr>\n",
       "      <th>0.038976</th>\n",
       "      <td>21.979934</td>\n",
       "      <td>21.994647</td>\n",
       "      <td>21.794177</td>\n",
       "      <td>21.841308</td>\n",
       "    </tr>\n",
       "  </tbody>\n",
       "</table>\n",
       "</div>"
      ],
      "text/plain": [
       "               SiO2    Au/SiO2      Al2O3   Au/Al2O3\n",
       "Time                                                \n",
       "0.000000  21.980776  21.995436  21.793693  21.840987\n",
       "0.009744  21.980565  21.995238  21.793814  21.841067\n",
       "0.019488  21.980355  21.995041  21.793935  21.841147\n",
       "0.029232  21.980144  21.994844  21.794056  21.841228\n",
       "0.038976  21.979934  21.994647  21.794177  21.841308"
      ]
     },
     "execution_count": 3,
     "metadata": {},
     "output_type": "execute_result"
    }
   ],
   "source": [
    "data = pd.read_csv(fileIn, index_col=0, dtype=np.double)\n",
    "data.head()"
   ]
  },
  {
   "cell_type": "code",
   "execution_count": 4,
   "metadata": {},
   "outputs": [],
   "source": [
    "data.plot();"
   ]
  },
  {
   "cell_type": "markdown",
   "metadata": {},
   "source": [
    "## Выравнивание температуры"
   ]
  },
  {
   "cell_type": "markdown",
   "metadata": {},
   "source": [
    "Построим линию эквализации для того, чтобы избавиться от \"плавающей\" температуры.  \n",
    "Уравнение для прямой плавающей температуры записывается в следующем виде:  \n",
    "$y=kx=\\frac{y(f) - y(0)}{N}x$,  \n",
    "где f - время в конце, N - количество измерений.  \n",
    "Нам нужна выровненная прямая:  \n",
    "$y=e$,  \n",
    "где e - точка сдвига равновесия, относительно которой будет строиться линия эквализации.  \n",
    "В итоге, прямая эквализации будет записана в виде:  \n",
    "$y=\\frac{y(f) - y(0)}{N}x+e$"
   ]
  },
  {
   "cell_type": "markdown",
   "metadata": {},
   "source": [
    "Посмотрим, как выглядит прямая для образца SiO2."
   ]
  },
  {
   "cell_type": "code",
   "execution_count": 5,
   "metadata": {},
   "outputs": [],
   "source": [
    "column = \"SiO2\""
   ]
  },
  {
   "cell_type": "markdown",
   "metadata": {},
   "source": [
    "Определим точку равновесия как температуру в середине графика."
   ]
  },
  {
   "cell_type": "code",
   "execution_count": 6,
   "metadata": {},
   "outputs": [
    {
     "data": {
      "text/plain": [
       "21.959438325366968"
      ]
     },
     "execution_count": 6,
     "metadata": {},
     "output_type": "execute_result"
    }
   ],
   "source": [
    "point = (data[column].iloc[0] + data[column].iloc[-1]) / 2\n",
    "point"
   ]
  },
  {
   "cell_type": "code",
   "execution_count": 7,
   "metadata": {},
   "outputs": [],
   "source": [
    "ql = equalization.equalization_line(data, column, point)"
   ]
  },
  {
   "cell_type": "markdown",
   "metadata": {},
   "source": [
    "Выведем график прямой."
   ]
  },
  {
   "cell_type": "code",
   "execution_count": 8,
   "metadata": {},
   "outputs": [
    {
     "data": {
      "image/png": "[encoded data removed]",
      "text/plain": [
       "<Figure size 432x288 with 1 Axes>"
      ]
     },
     "metadata": {
      "needs_background": "light"
     },
     "output_type": "display_data"
    }
   ],
   "source": [
    "ql.plot();"
   ]
  },
  {
   "cell_type": "markdown",
   "metadata": {},
   "source": [
    "Эквализация будет проходить следующим образом: из данных каждого образца вычитается своя линия эквализации. Таким образом, получаются графики без \"плавающей\" температуры."
   ]
  },
  {
   "cell_type": "markdown",
   "metadata": {},
   "source": [
    "Зададим точки равновесия температурой в середине графиков."
   ]
  },
  {
   "cell_type": "code",
   "execution_count": 9,
   "metadata": {},
   "outputs": [],
   "source": [
    "ep = {}\n",
    "for key in data.keys():\n",
    "    ep[key] = (data[key].iloc[0] + data[key].iloc[-1]) / 2"
   ]
  },
  {
   "cell_type": "code",
   "execution_count": 10,
   "metadata": {},
   "outputs": [
    {
     "data": {
      "text/plain": [
       "{'SiO2': 21.959438325366968,\n",
       " 'Au/SiO2': 21.983064920964395,\n",
       " 'Al2O3': 21.87192520833655,\n",
       " 'Au/Al2O3': 21.912334217182757}"
      ]
     },
     "execution_count": 10,
     "metadata": {},
     "output_type": "execute_result"
    }
   ],
   "source": [
    "ep"
   ]
  },
  {
   "cell_type": "markdown",
   "metadata": {},
   "source": [
    "Так же, точки можно задать температурой явно:"
   ]
  },
  {
   "cell_type": "code",
   "execution_count": 11,
   "metadata": {},
   "outputs": [],
   "source": [
    "#ep = {}\n",
    "#ep[\"SiO2\"] = 22.0\n",
    "#ep[\"Au/SiO2\"] = 24.2\n",
    "#ep[\"Al2O3\"] = 26.0\n",
    "#ep[\"Au/Al2O3\"] = 21.5"
   ]
  },
  {
   "cell_type": "markdown",
   "metadata": {},
   "source": [
    "Или по времени:"
   ]
  },
  {
   "cell_type": "code",
   "execution_count": 12,
   "metadata": {},
   "outputs": [],
   "source": [
    "#ep = {}\n",
    "#time = 800\n",
    "#ep[\"SiO2\"] = data[\"SiO2\"][0:time].iloc[-1]\n",
    "#ep[\"Au/SiO2\"] = data[\"Au/SiO2\"][0:time].iloc[-1]\n",
    "#ep[\"Al2O3\"] = data[\"Al2O3\"][0:time].iloc[-1]\n",
    "#ep[\"Au/Al2O3\"] = data[\"Au/Al2O3\"][0:time].iloc[-1]"
   ]
  },
  {
   "cell_type": "markdown",
   "metadata": {},
   "source": [
    "Произведем эквализацию."
   ]
  },
  {
   "cell_type": "code",
   "execution_count": 13,
   "metadata": {},
   "outputs": [],
   "source": [
    "equalized = equalization.equalization(data, ep)"
   ]
  },
  {
   "cell_type": "code",
   "execution_count": 14,
   "metadata": {},
   "outputs": [
    {
     "name": "stdout",
     "output_type": "stream",
     "text": [
      "Начальные данные и эквализированный график, соответственно:\n"
     ]
    },
    {
     "data": {
      "image/png": "[encoded data removed]",
      "text/plain": [
       "<Figure size 432x288 with 1 Axes>"
      ]
     },
     "metadata": {
      "needs_background": "light"
     },
     "output_type": "display_data"
    },
    {
     "data": {
      "image/png": "[encoded data removed]",
      "text/plain": [
       "<Figure size 432x288 with 1 Axes>"
      ]
     },
     "metadata": {
      "needs_background": "light"
     },
     "output_type": "display_data"
    }
   ],
   "source": [
    "print(\"Начальные данные и эквализированный график, соответственно:\")\n",
    "data.plot();\n",
    "equalized.plot();"
   ]
  },
  {
   "cell_type": "markdown",
   "metadata": {},
   "source": [
    "## Экспорт данных"
   ]
  },
  {
   "cell_type": "markdown",
   "metadata": {},
   "source": [
    "Экспортируем эквализированные данные в файл fileOut."
   ]
  },
  {
   "cell_type": "code",
   "execution_count": 15,
   "metadata": {},
   "outputs": [],
   "source": [
    "equalized.to_csv(fileOut)"
   ]
  },
  {
   "cell_type": "code",
   "execution_count": null,
   "metadata": {},
   "outputs": [],
   "source": []
  }
 ],
 "metadata": {
  "kernelspec": {
   "display_name": "Python 3",
   "language": "python",
   "name": "python3"
  },
  "language_info": {
   "codemirror_mode": {
    "name": "ipython",
    "version": 3
   },
   "file_extension": ".py",
   "mimetype": "text/x-python",
   "name": "python",
   "nbconvert_exporter": "python",
   "pygments_lexer": "ipython3",
   "version": "3.7.3"
  }
 },
 "nbformat": 4,
 "nbformat_minor": 2
}
