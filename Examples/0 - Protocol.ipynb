{
 "cells": [
  {
   "cell_type": "markdown",
   "metadata": {},
   "source": [
    "# Протокол"
   ]
  },
  {
   "cell_type": "markdown",
   "metadata": {},
   "source": [
    "Дата: 05.12.18"
   ]
  },
  {
   "cell_type": "markdown",
   "metadata": {},
   "source": [
    "## Состояние помещения"
   ]
  },
  {
   "cell_type": "markdown",
   "metadata": {},
   "source": [
    "Температура: 21 $^oC$  \n",
    "Давление: 775 мм.рт.ст.  \n",
    "Влажность: 25%"
   ]
  },
  {
   "cell_type": "markdown",
   "metadata": {},
   "source": [
    "## Образцы"
   ]
  },
  {
   "cell_type": "markdown",
   "metadata": {},
   "source": [
    "A: $SiO_2$ (64, 66)  \n",
    "B: $Au/SiO_2$ (71, 52)  \n",
    "C: $Al_2O_3$ (60, 44)  \n",
    "D: $Au/Al_2O_3$ (50, 56)  "
   ]
  },
  {
   "cell_type": "markdown",
   "metadata": {},
   "source": [
    "В скобках обозначены координаты, по которым снимался график в формате (x, y)."
   ]
  },
  {
   "cell_type": "markdown",
   "metadata": {},
   "source": [
    "## Действия"
   ]
  },
  {
   "cell_type": "markdown",
   "metadata": {},
   "source": [
    "18:50 - Начало записи"
   ]
  },
  {
   "cell_type": "markdown",
   "metadata": {},
   "source": [
    "100: включен насос  \n",
    "850: перекалибровка тепловизора  \n",
    "950: выключен насос; напуск атмосферного воздуха через узкое отверстие  \n",
    "1022: закончен напуск атмосферного воздуха через узкое отверстие"
   ]
  }
 ],
 "metadata": {
  "kernelspec": {
   "display_name": "Python 3",
   "language": "python",
   "name": "python3"
  },
  "language_info": {
   "codemirror_mode": {
    "name": "ipython",
    "version": 3
   },
   "file_extension": ".py",
   "mimetype": "text/x-python",
   "name": "python",
   "nbconvert_exporter": "python",
   "pygments_lexer": "ipython3",
   "version": "3.7.0"
  }
 },
 "nbformat": 4,
 "nbformat_minor": 2
}
